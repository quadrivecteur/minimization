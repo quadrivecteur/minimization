{
  "nbformat": 4,
  "nbformat_minor": 0,
  "metadata": {
    "colab": {
      "name": "scipy_tensorflow_interpolations.ipynb",
      "provenance": [],
      "collapsed_sections": []
    },
    "kernelspec": {
      "name": "python3",
      "display_name": "Python 3"
    }
  },
  "cells": [
    {
      "cell_type": "markdown",
      "metadata": {
        "id": "TYsQYCzlRbow",
        "colab_type": "text"
      },
      "source": [
        "# ***THIS NOTEBOOK COMPARES THE CUBIC INTERPOLATIONS OF SCIPY AND TENSORFLOW***\n",
        "---\n",
        "---\n",
        "---\n",
        "---\n",
        "---"
      ]
    },
    {
      "cell_type": "markdown",
      "metadata": {
        "id": "WRD_pzfZR7AW",
        "colab_type": "text"
      },
      "source": [
        "We begin by making a neural network reproduce the ground state of a harmonic oscillator. Then we compute the mean (over all points on the x axis) of the absolute value of the difference between the ground state and its reproduction. We do the same with the cubic interpolations.\n",
        "\n",
        "Note that there are 1003 points along x in the beginning but as Tensorflow removes 3 points (cubic spline), we compute a mean over 1000 points (same for SciPy even though it is not necessary)"
      ]
    },
    {
      "cell_type": "markdown",
      "metadata": {
        "id": "T7XuioCoRbeW",
        "colab_type": "text"
      },
      "source": [
        "# IMPORTS AND GLOBAL VARIABLES (don't forget to install tensorflow_graphics)"
      ]
    },
    {
      "cell_type": "code",
      "metadata": {
        "id": "_npL_2anRY9y",
        "colab_type": "code",
        "colab": {}
      },
      "source": [
        "import numpy as np\n",
        "import matplotlib.pyplot as plt\n",
        "import math\n",
        "\n",
        "from keras import layers, models, optimizers\n",
        "\n",
        "#!pip install tensorflow_graphics\n",
        "import tensorflow as tf\n",
        "from tensorflow_graphics.math.interpolation import bspline\n",
        "\n",
        "from scipy import integrate\n",
        "from scipy import interpolate\n",
        "\n",
        "hbar = 1\n",
        "omega = 1\n",
        "m = 1\n",
        "a = -5\n",
        "b = 5"
      ],
      "execution_count": null,
      "outputs": []
    },
    {
      "cell_type": "markdown",
      "metadata": {
        "id": "G9ecdIwuS5KK",
        "colab_type": "text"
      },
      "source": [
        "# DATA GENERATION"
      ]
    },
    {
      "cell_type": "code",
      "metadata": {
        "id": "grjz_q0P1PCn",
        "colab_type": "code",
        "colab": {
          "base_uri": "https://localhost:8080/",
          "height": 555
        },
        "outputId": "30ebe298-43a4-4244-c82f-a2c1401f5f0e"
      },
      "source": [
        "############\n",
        "#SECTION : OPENING FILES (writing the mean of the absolute value of the difference)\n",
        "############\n",
        "file1 = open(\"diff_nn.txt\", \"w\")\n",
        "file2 = open(\"diff_sp.txt\", \"w\")\n",
        "file3 = open(\"diff_tf.txt\", \"w\")\n",
        "\n",
        "\n",
        "\n",
        "############\n",
        "#SECTION : COMPUTING WAVE FUNCTION (1003 and 1000 points along x)\n",
        "############\n",
        "\n",
        "pts=1003\n",
        "h = 10/pts\n",
        "linx = np.linspace (a,b,pts) #x axis with 1003 points\n",
        "norm = np.zeros_like(linx, dtype=float) #1003 points wafe function\n",
        "x=-5.\n",
        "for i in range(0,pts):\n",
        "  norm[i] = pow(m*omega/(math.pi*hbar),0.25)*math.exp(-m*omega*(pow(x,2))/(2*hbar))\n",
        "  x+=h\n",
        "\n",
        "\n",
        "linx_1000 = np.linspace (a,b,pts-3) #x axis with 1000 points\n",
        "x=-5.\n",
        "norm_1000 = np.zeros_like(linx_1000, dtype=float) #1000 points wave function\n",
        "for i in range(0,pts-3):\n",
        "  norm_1000[i] = pow(m*omega/(math.pi*hbar),0.25)*math.exp(-m*omega*(pow(x,2))/(2*hbar))\n",
        "  x+=h\n",
        "\n",
        "\n",
        "\n",
        "\n",
        "############\n",
        "#SECTION : COMPUTING THE MEANS\n",
        "############\n",
        "\n",
        "#number of runs we want\n",
        "runs = 30\n",
        "#arrays for mean of the absolute value of the difference\n",
        "diff_nn = np.zeros((runs,1)) #Neural network prediction\n",
        "diff_sp = np.zeros((runs,1)) #SciPy interp. of prediction\n",
        "diff_tf = np.zeros((runs,1)) #Tensorflow interp. of prediction\n",
        "\n",
        "for j in range(0,runs):\n",
        "  print('run #',j+1)\n",
        "\n",
        "  #INITIALIZATION OF NEURAL NETWORK\n",
        "  model = models.Sequential([\n",
        "    layers.Dense(200, input_shape=(1,), activation='relu'),\n",
        "    layers.Dense(200, input_shape=(1,), activation='relu'), \n",
        "    layers.Dense(1),\n",
        "  ])\n",
        "  #model.summary()\n",
        "  opt = optimizers.Adam(learning_rate=0.001)\n",
        "  model.compile(loss='mse',optimizer=opt)\n",
        "\n",
        "\n",
        "  #Loop to compute the interpolations and the means\n",
        "  for k in range(0,points):\n",
        "\n",
        "    #neural network training (45 epochs on each run) and prediction\n",
        "    model.fit(linx, norm, epochs=45, batch_size=50,verbose=0)\n",
        "    predictions = model.predict(linx)\n",
        "    preds = predictions.reshape(-1)\n",
        "\n",
        "    \"\"\"\n",
        "    \"\"\"\n",
        "    #SCIPY interpolation of prediction - 1000 points\n",
        "    #cubic interpolation\n",
        "    tck_nn_sp = interpolate.splrep(linx, preds, k=3, s=0)\n",
        "    #spline 1000 points\n",
        "    spline_nn_sp = interpolate.splev(linx_1000, tck_nn_sp, der=0)\n",
        "    \n",
        "    \"\"\"\n",
        "    \"\"\"\n",
        "    #Tensorflow interpolation of prediction - 1000 points\n",
        "    degre = 3 #cubic spline\n",
        "    max_pos = pts-3 #tensorflow removes 3 points from the original array\n",
        "    # knots and position of knots\n",
        "    knots_nn = tf.constant((linx,preds))\n",
        "    positions = tf.expand_dims(tf.range(start=0.0, limit=max_pos, delta=1, dtype=knots_nn.dtype), axis=-1)\n",
        "    # interpolation\n",
        "    tck_nn_tf = bspline.interpolate(knots_nn, positions, cyclical=False, degree = degre)\n",
        "    #splines 1000 points\n",
        "    spline_nn_tf = tf.squeeze(tck_nn_tf, axis=1)\n",
        "\n",
        "    \"\"\"\n",
        "    \"\"\"\n",
        "    #Computing means of the absolute value of the difference between\n",
        "    #the ground state, the network prediction and the cubic interpolations of the prediction\n",
        "    diff_nn[j] = np.sum(np.abs(norm-preds))/1003\n",
        "    diff_sp[j] = np.sum(np.abs(norm_1000-spline_nn_sp))/1000\n",
        "    diff_tf[j] = np.sum(np.abs(norm_1000-spline_nn_tf[:,1]))/1000\n",
        "\n",
        "\n",
        "#Diff N.N.\n",
        "np.savetxt(file1, diff_nn, fmt='%.18e', delimiter='', newline='\\n')\n",
        "#Diff SciPy\n",
        "np.savetxt(file2, diff_sp, fmt='%.18e', delimiter='', newline='\\n')\n",
        "#Diff Tensorflow\n",
        "np.savetxt(file3, diff_tf, fmt='%.18e', delimiter='', newline='\\n')\n",
        "\n",
        "file1.close()\n",
        "file2.close()\n",
        "file3.close()"
      ],
      "execution_count": 16,
      "outputs": [
        {
          "output_type": "stream",
          "text": [
            "run # 1\n",
            "run # 2\n",
            "run # 3\n",
            "run # 4\n",
            "run # 5\n",
            "run # 6\n",
            "run # 7\n",
            "run # 8\n",
            "run # 9\n",
            "run # 10\n",
            "run # 11\n",
            "run # 12\n",
            "run # 13\n",
            "run # 14\n",
            "run # 15\n",
            "run # 16\n",
            "run # 17\n",
            "run # 18\n",
            "run # 19\n",
            "run # 20\n",
            "run # 21\n",
            "run # 22\n",
            "run # 23\n",
            "run # 24\n",
            "run # 25\n",
            "run # 26\n",
            "run # 27\n",
            "run # 28\n",
            "run # 29\n",
            "run # 30\n"
          ],
          "name": "stdout"
        }
      ]
    },
    {
      "cell_type": "markdown",
      "metadata": {
        "id": "sJvtMf68S_me",
        "colab_type": "text"
      },
      "source": [
        "# PLOT"
      ]
    },
    {
      "cell_type": "code",
      "metadata": {
        "id": "mO-zBcfGQ1sw",
        "colab_type": "code",
        "colab": {
          "base_uri": "https://localhost:8080/",
          "height": 297
        },
        "outputId": "0a0a25e3-4100-4b30-b483-db53de25b46a"
      },
      "source": [
        "#OPENING FILES\n",
        "file1 = open(\"diff_nn.txt\", \"r\")\n",
        "file2 = open(\"diff_sp.txt\", \"r\")\n",
        "file3 = open(\"diff_tf.txt\", \"r\")\n",
        "\n",
        "with open('diff_nn.txt') as f:\n",
        "    lines1 = f.readlines()\n",
        "    diff_nn = np.array([float(line.split()[0]) for line in lines1])\n",
        "with open('diff_sp.txt') as f:\n",
        "    lines2 = f.readlines()\n",
        "    diff_sp = np.array([float(line.split()[0]) for line in lines2])\n",
        "with open('diff_tf.txt') as f:\n",
        "    lines3 = f.readlines()\n",
        "    diff_tf = np.array([float(line.split()[0]) for line in lines3])\n",
        "\n",
        "\n",
        "array_runs = np.arange(1,31)     #array of the number of runs (x axis on plot)\n",
        "\n",
        "#mavd stands for 'mean of the absolute value of the difference'\n",
        "plt.yscale('log')\n",
        "plt.plot(array_runs,diff_nn,marker='.',c='r', label='mavd Network')\n",
        "plt.plot(array_runs,diff_sp,marker='.',c='g', label='mavd SciPy')\n",
        "plt.plot(array_runs,diff_tf,marker='.',c='b', label='mavd Tensorflow')\n",
        "plt.ylabel('mavd')\n",
        "plt.xlabel('run')\n",
        "plt.legend(title = 'comparing cubic splines of SciPy - Tensorflow')\n",
        "plt.savefig('Tf_vs_SciPy_vs_NN.pdf')\n",
        "plt.show()\n",
        "plt.clf()"
      ],
      "execution_count": 17,
      "outputs": [
        {
          "output_type": "display_data",
          "data": {
            "image/png": "[encoded data removed]",
            "text/plain": [
              "<Figure size 432x288 with 1 Axes>"
            ]
          },
          "metadata": {
            "tags": [],
            "needs_background": "light"
          }
        },
        {
          "output_type": "display_data",
          "data": {
            "text/plain": [
              "<Figure size 432x288 with 0 Axes>"
            ]
          },
          "metadata": {
            "tags": []
          }
        }
      ]
    }
  ]
}